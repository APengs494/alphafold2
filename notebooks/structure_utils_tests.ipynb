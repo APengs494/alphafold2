{
 "cells": [
  {
   "cell_type": "markdown",
   "metadata": {},
   "source": [
    "<center><h2>Testing the Functionality of the <i>\"utils.py\"</i> Module</h2></center>"
   ]
  },
  {
   "cell_type": "code",
   "execution_count": 1,
   "metadata": {},
   "outputs": [
    {
     "data": {
      "text/plain": [
       "' Tetsing the following functionality: \\n    * metrics (rmsd, gdt_ts, gdt_ha, tmscore)\\n    * alignment (kabsch)\\n    * 3d coords (mds)\\n    -----\\n    The data files used contain the id of the original\\n    crystal structures from the RCSB PDB\\n'"
      ]
     },
     "execution_count": 1,
     "metadata": {},
     "output_type": "execute_result"
    }
   ],
   "source": [
    "\"\"\" Tetsing the following functionality: \n",
    "    * metrics (rmsd, gdt_ts, gdt_ha, tmscore)\n",
    "    * alignment (kabsch)\n",
    "    * 3d coords (mds)\n",
    "    -----\n",
    "    The data files used contain the id of the original\n",
    "    crystal structures from the RCSB PDB\n",
    "\"\"\""
   ]
  },
  {
   "cell_type": "code",
   "execution_count": 1,
   "metadata": {},
   "outputs": [],
   "source": [
    "import os\n",
    "import sys\n",
    "# science\n",
    "import numpy as np\n",
    "import torch\n",
    "import matplotlib.pyplot as plt\n",
    "# molecular utils\n",
    "import mdtraj\n",
    "# functionality\n",
    "sys.path.append(\"../\")\n",
    "from utils import *"
   ]
  },
  {
   "cell_type": "code",
   "execution_count": 2,
   "metadata": {},
   "outputs": [],
   "source": [
    "# load pdb file\n",
    "prot = mdtraj.load_pdb(\"data/1h22_protein.pdb\").xyz[0].transpose()"
   ]
  },
  {
   "cell_type": "markdown",
   "metadata": {},
   "source": [
    "## Metrics"
   ]
  },
  {
   "cell_type": "code",
   "execution_count": 3,
   "metadata": {},
   "outputs": [],
   "source": [
    "# alter a small amount and measure metrics\n",
    "pred = prot + (2*np.random.rand(*prot.shape) - 1) * 1"
   ]
  },
  {
   "cell_type": "code",
   "execution_count": 4,
   "metadata": {},
   "outputs": [
    {
     "name": "stdout",
     "output_type": "stream",
     "text": [
      "rmsd is:  [0.57861509]\n",
      "gdt_ha is:  [0.64448925]\n",
      "gdt_ts is:  [0.87936828]\n",
      "tm_score is:  [0.99813407]\n",
      "rmsd is:  tensor([0.5786], dtype=torch.float64)\n",
      "gdt_ha is:  tensor([0.6445])\n",
      "gdt_ts is:  tensor([0.8794])\n",
      "tm_score is:  tensor([0.9981], dtype=torch.float64)\n"
     ]
    }
   ],
   "source": [
    "# Numpy\n",
    "rmsd     = RMSD(prot, pred)\n",
    "gdt_ha   = GDT(prot, pred, mode=\"HA\")\n",
    "gdt_ts   = GDT(prot, pred, mode=\"TS\")\n",
    "tm_score = TMscore(prot, pred)\n",
    "\n",
    "print(\"rmsd is: \", rmsd)\n",
    "print(\"gdt_ha is: \", gdt_ha)\n",
    "print(\"gdt_ts is: \", gdt_ts)\n",
    "print(\"tm_score is: \", tm_score)\n",
    "\n",
    "# Torch\n",
    "prot, pred = torch.tensor(prot), torch.tensor(pred)\n",
    "rmsd     = RMSD(prot, pred)\n",
    "gdt_ha   = GDT(prot, pred, mode=\"HA\")\n",
    "gdt_ts   = GDT(prot, pred, mode=\"TS\")\n",
    "tm_score = TMscore(prot, pred)\n",
    "\n",
    "print(\"rmsd is: \", rmsd)\n",
    "print(\"gdt_ha is: \", gdt_ha)\n",
    "print(\"gdt_ts is: \", gdt_ts)\n",
    "print(\"tm_score is: \", tm_score)"
   ]
  },
  {
   "cell_type": "markdown",
   "metadata": {},
   "source": [
    "## Alignment"
   ]
  },
  {
   "cell_type": "code",
   "execution_count": 5,
   "metadata": {},
   "outputs": [],
   "source": [
    "prot = prot.cpu().numpy()\n",
    "pred = pred.cpu().numpy()"
   ]
  },
  {
   "cell_type": "code",
   "execution_count": 6,
   "metadata": {},
   "outputs": [],
   "source": [
    "# rotation matrix\n",
    "R = np.array([[0.25581, -0.77351, 0.57986],\n",
    "              [-0.85333, -0.46255, -0.24057],\n",
    "              [0.45429, -0.43327, -0.77839]])"
   ]
  },
  {
   "cell_type": "code",
   "execution_count": 7,
   "metadata": {},
   "outputs": [],
   "source": [
    "# perturb protein (translation + rotation + random)\n",
    "pred = prot + (2*np.random.rand(*prot.shape) - 1) * 1 \n",
    "pred = np.dot(R, pred)"
   ]
  },
  {
   "cell_type": "code",
   "execution_count": 8,
   "metadata": {},
   "outputs": [
    {
     "data": {
      "text/plain": [
       "(tensor([0.5754], dtype=torch.float64), tensor([0.9982], dtype=torch.float64))"
      ]
     },
     "execution_count": 8,
     "metadata": {},
     "output_type": "execute_result"
    }
   ],
   "source": [
    "# check realignment works - torch\n",
    "pred_mod_, prot_mod_ = Kabsch(torch.tensor(pred).double(), torch.tensor(prot).double())\n",
    "RMSD(prot_mod_, pred_mod_), TMscore(prot_mod_, pred_mod_)"
   ]
  },
  {
   "cell_type": "code",
   "execution_count": 9,
   "metadata": {},
   "outputs": [
    {
     "data": {
      "text/plain": [
       "(array([0.57536585]), array([0.99815493]))"
      ]
     },
     "execution_count": 9,
     "metadata": {},
     "output_type": "execute_result"
    }
   ],
   "source": [
    "# check realignment works - torch\n",
    "pred_mod, prot_mod = Kabsch(pred, prot)\n",
    "RMSD(prot_mod, pred_mod), TMscore(prot_mod, pred_mod)"
   ]
  },
  {
   "cell_type": "markdown",
   "metadata": {},
   "source": [
    "## 3d Converter"
   ]
  },
  {
   "cell_type": "code",
   "execution_count": 10,
   "metadata": {},
   "outputs": [],
   "source": [
    "prot_traj = mdtraj.load_pdb(\"data/1h22_protein.pdb\")"
   ]
  },
  {
   "cell_type": "code",
   "execution_count": 11,
   "metadata": {},
   "outputs": [],
   "source": [
    "prot = prot_traj.xyz[0].transpose()"
   ]
  },
  {
   "cell_type": "code",
   "execution_count": 12,
   "metadata": {},
   "outputs": [],
   "source": [
    "# works with a simple distance matrix for now\n",
    "prot = torch.tensor(prot)\n",
    "dist_mat = torch.cdist(prot.t(), prot.t())"
   ]
  },
  {
   "cell_type": "code",
   "execution_count": 13,
   "metadata": {},
   "outputs": [],
   "source": [
    "# plt.imshow(distogram, cmap=\"viridis_r\")"
   ]
  },
  {
   "cell_type": "code",
   "execution_count": 14,
   "metadata": {},
   "outputs": [
    {
     "data": {
      "text/plain": [
       "((528,), (529,))"
      ]
     },
     "execution_count": 14,
     "metadata": {},
     "output_type": "execute_result"
    }
   ],
   "source": [
    "# select indices of backbone for angle calculation and selection\n",
    "N_mask  = prot_traj.topology.select(\"name == N and backbone\")\n",
    "CA_mask = prot_traj.topology.select(\"name == CA and backbone\") \n",
    "CA_mask.shape, N_mask.shape"
   ]
  },
  {
   "cell_type": "code",
   "execution_count": 16,
   "metadata": {
    "scrolled": false
   },
   "outputs": [
    {
     "name": "stdout",
     "output_type": "stream",
     "text": [
      "it: 0, stress tensor([1.4280e+08, 1.4227e+08, 1.4240e+08])\n"
     ]
    }
   ],
   "source": [
    "pred, stress = MDScaling(dist_mat, iters=1, tol=1e-5,\n",
    "                         fix_mirror=3, N_mask=N_mask, CA_mask=CA_mask)"
   ]
  },
  {
   "cell_type": "code",
   "execution_count": null,
   "metadata": {},
   "outputs": [],
   "source": [
    "# check realignment works\n",
    "pred_mod, prot_mod = Kabsch(pred.numpy(), prot.numpy())\n",
    "# measure\n",
    "rmsd     = RMSD(prot_mod, pred_mod)\n",
    "gdt_ha   = GDT(prot_mod, pred_mod, mode=\"HA\")\n",
    "gdt_ts   = GDT(prot_mod, pred_mod, mode=\"TS\")\n",
    "tm_score = TMscore(prot_mod, pred_mod)\n",
    "\n",
    "print(\"rmsd is: \", rmsd)\n",
    "print(\"gdt_ha is: \", gdt_ha)\n",
    "print(\"gdt_ts is: \", gdt_ts)\n",
    "print(\"tm_score is: \", tm_score)"
   ]
  },
  {
   "cell_type": "markdown",
   "metadata": {},
   "source": [
    "## See reconstruction"
   ]
  },
  {
   "cell_type": "code",
   "execution_count": null,
   "metadata": {},
   "outputs": [],
   "source": [
    "new_dist_mat = torch.cdist(pred.t(), pred.t())\n",
    "delta_dist    = new_dist_mat-distogram"
   ]
  },
  {
   "cell_type": "code",
   "execution_count": null,
   "metadata": {},
   "outputs": [],
   "source": [
    "fig, ax = plt.subplots(1,3,figsize=(9, 3), sharey=True)\n",
    "cmap = plt.get_cmap(\"viridis_r\")\n",
    "\n",
    "ax[0].set_title(\"Original\")\n",
    "ax[0].imshow(dist_mat, cmap=\"viridis_r\")\n",
    "ax[1].set_title(\"Reconstructed\")\n",
    "ax[1].imshow(new_dist_mat, cmap=\"viridis_r\")\n",
    "ax[2].set_title(\"Difference\")\n",
    "ax[2].imshow(delta_dist, cmap=\"viridis_r\")\n",
    "\n",
    "\n",
    "print(\"Diffs: max = {0} and min {1}\".format(np.amax(delta_dist.numpy()),\n",
    "                                            np.amin(delta_dist.numpy()) ))"
   ]
  },
  {
   "cell_type": "code",
   "execution_count": null,
   "metadata": {},
   "outputs": [],
   "source": [
    "# save pdb file and check manually here: \n",
    "# https://molstar.org/viewer/\n",
    "buffer_save = mdtraj.load(\"data/1h22_protein.pdb\")\n",
    "buffer_save.xyz = pred_mod.T[None, :, :]\n",
    "buffer_save.save(\"data/save_to_check.pdb\")"
   ]
  },
  {
   "cell_type": "code",
   "execution_count": null,
   "metadata": {},
   "outputs": [],
   "source": [
    "# save pdb file and check manually here: \n",
    "# https://molstar.org/viewer/\n",
    "buffer_save = mdtraj.load(\"data/1h22_protein.pdb\")\n",
    "buffer_save.xyz = prot_mod.T[None, :, :]\n",
    "buffer_save.save(\"data/save_to_check_base.pdb\")"
   ]
  },
  {
   "cell_type": "markdown",
   "metadata": {},
   "source": [
    "Legend:\n",
    "* blue/purple: reference\n",
    "* green/orange: our reconstruction\n",
    "\n",
    "Comments: only small blue detail on the left. increase match by decreasing tolerance"
   ]
  },
  {
   "cell_type": "markdown",
   "metadata": {},
   "source": [
    "<img src=\"data/comparison.png\">"
   ]
  },
  {
   "cell_type": "code",
   "execution_count": null,
   "metadata": {},
   "outputs": [],
   "source": []
  },
  {
   "cell_type": "code",
   "execution_count": null,
   "metadata": {},
   "outputs": [],
   "source": []
  }
 ],
 "metadata": {
  "kernelspec": {
   "display_name": "Python 3",
   "language": "python",
   "name": "python3"
  },
  "language_info": {
   "codemirror_mode": {
    "name": "ipython",
    "version": 3
   },
   "file_extension": ".py",
   "mimetype": "text/x-python",
   "name": "python",
   "nbconvert_exporter": "python",
   "pygments_lexer": "ipython3",
   "version": "3.7.9"
  }
 },
 "nbformat": 4,
 "nbformat_minor": 4
}
